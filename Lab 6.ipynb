{
 "cells": [
  {
   "cell_type": "markdown",
   "metadata": {},
   "source": [
    "# Laboratory 6 : Matrices\n",
    "\n",
    "## Task 1\n",
    "\n",
    "\n",
    "Create a function named mat_desc() that througouhly describes a matrix, it should:\n",
    "\n",
    "  1. Displays the shape, size, and rank of the matrix.\n",
    "  2. Displays whether the matrix is square or non-square.\n",
    "  3. Displays whether the matrix is an empty matrix.\n",
    "  4. Displays if the matrix is an identity, ones, or zeros matrix\n",
    "  \n",
    "Use 5 sample matrices in which their shapes are not lower than $(3,3)$. In your methodology, create a flowchart discuss the functions and methods you have done. Present your results in the results section showing the description of each matrix you have declared."
   ]
  },
  {
   "cell_type": "code",
   "execution_count": 1,
   "metadata": {},
   "outputs": [],
   "source": [
    "import numpy as np\n",
    "import matplotlib.pyplot as plt\n",
    "import scipy.linalg as la\n",
    "%matplotlib inline\n",
    "\n",
    "\n",
    "Mat_A=np.array([[5,8,0],\n",
    "                [3,2,1],\n",
    "                [9,8,3]])\n",
    "\n",
    "Mat_B=np.array([[6,4,3],\n",
    "                [1,20,35],\n",
    "                [15,7,2]])\n",
    "\n",
    "Mat_C=np.array([[0,0,0],\n",
    "                [0,0,0],\n",
    "                [0,0,0],\n",
    "                [0,0,0]])\n",
    "\n",
    "Mat_D=np.array([[1,0,0],\n",
    "                [0,1,0],\n",
    "                [0,0,1]])\n",
    "\n",
    "Mat_E=np.array([[1,1,1],\n",
    "                [1,1,1],\n",
    "                [1,1,1]])\n",
    "\n",
    "def mat_desc(mat):\n",
    "   print(f'{mat}\\n\\nShape: {mat.shape}\\nSize: {np.product(mat.shape)}\\nRank: {mat.ndim}\\n')\n",
    "   if mat.size > 0:\n",
    "    square = True if mat.shape[0] == mat.shape[1] else False \n",
    "    identity = True if mat.shape[0] == mat.shape[1] and np.allclose(mat, np.identity(mat.shape[0])) else False\n",
    "    ones = True if np.all((mat == 1)) else False \n",
    "    zero = True if np.all((mat == 0)) else False \n",
    "    print(f'Square Matrix: {square}\\n'f'Identity Matrix: {identity}\\n'f'Ones Matrix: {ones}\\n'f'Zero Matrix: {zero}\\n')\n",
    "   else:\n",
    "     print(\"Empty Matrix\")"
   ]
  },
  {
   "cell_type": "markdown",
   "metadata": {},
   "source": [
    "### Matrix A"
   ]
  },
  {
   "cell_type": "code",
   "execution_count": 2,
   "metadata": {},
   "outputs": [
    {
     "name": "stdout",
     "output_type": "stream",
     "text": [
      "[[5 8 0]\n",
      " [3 2 1]\n",
      " [9 8 3]]\n",
      "\n",
      "Shape: (3, 3)\n",
      "Size: 9\n",
      "Rank: 2\n",
      "\n",
      "Square Matrix: True\n",
      "Identity Matrix: False\n",
      "Ones Matrix: False\n",
      "Zero Matrix: False\n",
      "\n"
     ]
    }
   ],
   "source": [
    "mat_desc(Mat_A)"
   ]
  },
  {
   "cell_type": "markdown",
   "metadata": {},
   "source": [
    "### Matrix B"
   ]
  },
  {
   "cell_type": "code",
   "execution_count": 3,
   "metadata": {},
   "outputs": [
    {
     "name": "stdout",
     "output_type": "stream",
     "text": [
      "[[ 6  4  3]\n",
      " [ 1 20 35]\n",
      " [15  7  2]]\n",
      "\n",
      "Shape: (3, 3)\n",
      "Size: 9\n",
      "Rank: 2\n",
      "\n",
      "Square Matrix: True\n",
      "Identity Matrix: False\n",
      "Ones Matrix: False\n",
      "Zero Matrix: False\n",
      "\n"
     ]
    }
   ],
   "source": [
    "mat_desc(Mat_B)"
   ]
  },
  {
   "cell_type": "markdown",
   "metadata": {},
   "source": [
    "### Matrix C"
   ]
  },
  {
   "cell_type": "code",
   "execution_count": 4,
   "metadata": {},
   "outputs": [
    {
     "name": "stdout",
     "output_type": "stream",
     "text": [
      "[[0 0 0]\n",
      " [0 0 0]\n",
      " [0 0 0]\n",
      " [0 0 0]]\n",
      "\n",
      "Shape: (4, 3)\n",
      "Size: 12\n",
      "Rank: 2\n",
      "\n",
      "Square Matrix: False\n",
      "Identity Matrix: False\n",
      "Ones Matrix: False\n",
      "Zero Matrix: True\n",
      "\n"
     ]
    }
   ],
   "source": [
    "mat_desc(Mat_C)"
   ]
  },
  {
   "cell_type": "markdown",
   "metadata": {},
   "source": [
    "### Matrix D"
   ]
  },
  {
   "cell_type": "code",
   "execution_count": 5,
   "metadata": {},
   "outputs": [
    {
     "name": "stdout",
     "output_type": "stream",
     "text": [
      "[[1 0 0]\n",
      " [0 1 0]\n",
      " [0 0 1]]\n",
      "\n",
      "Shape: (3, 3)\n",
      "Size: 9\n",
      "Rank: 2\n",
      "\n",
      "Square Matrix: True\n",
      "Identity Matrix: True\n",
      "Ones Matrix: False\n",
      "Zero Matrix: False\n",
      "\n"
     ]
    }
   ],
   "source": [
    "mat_desc(Mat_D)"
   ]
  },
  {
   "cell_type": "markdown",
   "metadata": {},
   "source": [
    "### Matrix E"
   ]
  },
  {
   "cell_type": "code",
   "execution_count": 6,
   "metadata": {},
   "outputs": [
    {
     "name": "stdout",
     "output_type": "stream",
     "text": [
      "[[1 1 1]\n",
      " [1 1 1]\n",
      " [1 1 1]]\n",
      "\n",
      "Shape: (3, 3)\n",
      "Size: 9\n",
      "Rank: 2\n",
      "\n",
      "Square Matrix: True\n",
      "Identity Matrix: False\n",
      "Ones Matrix: True\n",
      "Zero Matrix: False\n",
      "\n"
     ]
    }
   ],
   "source": [
    "mat_desc(Mat_E)"
   ]
  },
  {
   "cell_type": "markdown",
   "metadata": {},
   "source": [
    "## Task 2"
   ]
  },
  {
   "cell_type": "markdown",
   "metadata": {},
   "source": [
    "\n",
    "Create a function named mat_operations() that takes in two matrices or scalars a input parameters it should:\n",
    "\n",
    "1. Display the description of each matrix, if the parameter is a scalar it tells that it is a scalar rather than describing it as a matrix.\n",
    "2. Determines if the matrices are viable for operation and returns your own error message if they are not viable.\n",
    "3. Returns the sum of the matrices.\n",
    "4. Returns the differen of the matrices.\n",
    "5. Returns the element-wise multiplication of the matrices.\n",
    "6. Returns the element-wise division of the matrices.\n",
    "\n",
    "Use 5 sample matrices in which their shapes are not lower than $(3,3)$. In your methodology, create a flowchart discuss the functions and methods you have done. Present your results in the results section showing the description of each matrix you have declared."
   ]
  },
  {
   "cell_type": "code",
   "execution_count": 7,
   "metadata": {},
   "outputs": [],
   "source": [
    "def mat_operations(A,B):\n",
    "    alpha=1**-10\n",
    "    print(f'Matrices:\\n\\n{A},\\n\\n{B}')\n",
    "    \n",
    "    if(A.shape==B.shape):\n",
    "            sum=A+B\n",
    "            difference=A-B\n",
    "            product=A*B\n",
    "            quotient=A/(B+alpha)\n",
    "            print(\"\\n\\n Sum:\\n\", sum)\n",
    "            print(\"\\n\\n Difference:\\n\",difference)\n",
    "            print(\"\\n\\n Product:\\n\",product)\n",
    "            print(\"\\n\\n Quotient:\\n\",quotient)\n",
    "            return\n",
    "    else:\n",
    "            print('\\n\\nUnable to perform operation due to incompatible matrices')\n",
    "            return"
   ]
  },
  {
   "cell_type": "markdown",
   "metadata": {},
   "source": [
    "## Matrix A and Matrix B"
   ]
  },
  {
   "cell_type": "code",
   "execution_count": 8,
   "metadata": {},
   "outputs": [
    {
     "name": "stdout",
     "output_type": "stream",
     "text": [
      "Matrices:\n",
      "\n",
      "[[5 8 0]\n",
      " [3 2 1]\n",
      " [9 8 3]],\n",
      "\n",
      "[[ 6  4  3]\n",
      " [ 1 20 35]\n",
      " [15  7  2]]\n",
      "\n",
      "\n",
      " Sum:\n",
      " [[11 12  3]\n",
      " [ 4 22 36]\n",
      " [24 15  5]]\n",
      "\n",
      "\n",
      " Difference:\n",
      " [[ -1   4  -3]\n",
      " [  2 -18 -34]\n",
      " [ -6   1   1]]\n",
      "\n",
      "\n",
      " Product:\n",
      " [[ 30  32   0]\n",
      " [  3  40  35]\n",
      " [135  56   6]]\n",
      "\n",
      "\n",
      " Quotient:\n",
      " [[0.71428571 1.6        0.        ]\n",
      " [1.5        0.0952381  0.02777778]\n",
      " [0.5625     1.         1.        ]]\n"
     ]
    }
   ],
   "source": [
    "mat_operations(Mat_A,Mat_B)"
   ]
  },
  {
   "cell_type": "markdown",
   "metadata": {},
   "source": [
    "## Matrix B and Matrix C"
   ]
  },
  {
   "cell_type": "code",
   "execution_count": 9,
   "metadata": {},
   "outputs": [
    {
     "name": "stdout",
     "output_type": "stream",
     "text": [
      "Matrices:\n",
      "\n",
      "[[ 6  4  3]\n",
      " [ 1 20 35]\n",
      " [15  7  2]],\n",
      "\n",
      "[[0 0 0]\n",
      " [0 0 0]\n",
      " [0 0 0]\n",
      " [0 0 0]]\n",
      "\n",
      "\n",
      "Unable to perform operation due to incompatible matrices\n"
     ]
    }
   ],
   "source": [
    "mat_operations(Mat_B,Mat_C)"
   ]
  },
  {
   "cell_type": "markdown",
   "metadata": {},
   "source": [
    "## Matrix B and Matrix D"
   ]
  },
  {
   "cell_type": "code",
   "execution_count": 10,
   "metadata": {},
   "outputs": [
    {
     "name": "stdout",
     "output_type": "stream",
     "text": [
      "Matrices:\n",
      "\n",
      "[[ 6  4  3]\n",
      " [ 1 20 35]\n",
      " [15  7  2]],\n",
      "\n",
      "[[1 0 0]\n",
      " [0 1 0]\n",
      " [0 0 1]]\n",
      "\n",
      "\n",
      " Sum:\n",
      " [[ 7  4  3]\n",
      " [ 1 21 35]\n",
      " [15  7  3]]\n",
      "\n",
      "\n",
      " Difference:\n",
      " [[ 5  4  3]\n",
      " [ 1 19 35]\n",
      " [15  7  1]]\n",
      "\n",
      "\n",
      " Product:\n",
      " [[ 6  0  0]\n",
      " [ 0 20  0]\n",
      " [ 0  0  2]]\n",
      "\n",
      "\n",
      " Quotient:\n",
      " [[ 3.  4.  3.]\n",
      " [ 1. 10. 35.]\n",
      " [15.  7.  1.]]\n"
     ]
    }
   ],
   "source": [
    "mat_operations(Mat_B,Mat_D)"
   ]
  },
  {
   "cell_type": "markdown",
   "metadata": {},
   "source": [
    "## Matrix E and Matrix D"
   ]
  },
  {
   "cell_type": "code",
   "execution_count": 11,
   "metadata": {},
   "outputs": [
    {
     "name": "stdout",
     "output_type": "stream",
     "text": [
      "Matrices:\n",
      "\n",
      "[[1 1 1]\n",
      " [1 1 1]\n",
      " [1 1 1]],\n",
      "\n",
      "[[1 0 0]\n",
      " [0 1 0]\n",
      " [0 0 1]]\n",
      "\n",
      "\n",
      " Sum:\n",
      " [[2 1 1]\n",
      " [1 2 1]\n",
      " [1 1 2]]\n",
      "\n",
      "\n",
      " Difference:\n",
      " [[0 1 1]\n",
      " [1 0 1]\n",
      " [1 1 0]]\n",
      "\n",
      "\n",
      " Product:\n",
      " [[1 0 0]\n",
      " [0 1 0]\n",
      " [0 0 1]]\n",
      "\n",
      "\n",
      " Quotient:\n",
      " [[0.5 1.  1. ]\n",
      " [1.  0.5 1. ]\n",
      " [1.  1.  0.5]]\n"
     ]
    }
   ],
   "source": [
    "mat_operations(Mat_E,Mat_D)"
   ]
  },
  {
   "cell_type": "markdown",
   "metadata": {},
   "source": [
    "## Matrix A and Matrix D"
   ]
  },
  {
   "cell_type": "code",
   "execution_count": 12,
   "metadata": {},
   "outputs": [
    {
     "name": "stdout",
     "output_type": "stream",
     "text": [
      "Matrices:\n",
      "\n",
      "[[5 8 0]\n",
      " [3 2 1]\n",
      " [9 8 3]],\n",
      "\n",
      "[[1 0 0]\n",
      " [0 1 0]\n",
      " [0 0 1]]\n",
      "\n",
      "\n",
      " Sum:\n",
      " [[6 8 0]\n",
      " [3 3 1]\n",
      " [9 8 4]]\n",
      "\n",
      "\n",
      " Difference:\n",
      " [[4 8 0]\n",
      " [3 1 1]\n",
      " [9 8 2]]\n",
      "\n",
      "\n",
      " Product:\n",
      " [[5 0 0]\n",
      " [0 2 0]\n",
      " [0 0 3]]\n",
      "\n",
      "\n",
      " Quotient:\n",
      " [[2.5 8.  0. ]\n",
      " [3.  1.  1. ]\n",
      " [9.  8.  1.5]]\n"
     ]
    }
   ],
   "source": [
    "mat_operations(Mat_A,Mat_D)"
   ]
  }
 ],
 "metadata": {
  "kernelspec": {
   "display_name": "Python 3",
   "language": "python",
   "name": "python3"
  },
  "language_info": {
   "codemirror_mode": {
    "name": "ipython",
    "version": 3
   },
   "file_extension": ".py",
   "mimetype": "text/x-python",
   "name": "python",
   "nbconvert_exporter": "python",
   "pygments_lexer": "ipython3",
   "version": "3.8.3"
  }
 },
 "nbformat": 4,
 "nbformat_minor": 4
}
