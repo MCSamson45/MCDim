{
 "cells": [
  {
   "cell_type": "markdown",
   "metadata": {},
   "source": [
    "# Task 1"
   ]
  },
  {
   "cell_type": "code",
   "execution_count": 1,
   "metadata": {},
   "outputs": [],
   "source": [
    "import numpy as np\n",
    "import matplotlib.pyplot as plt\n",
    "import math\n",
    "%matplotlib inline"
   ]
  },
  {
   "cell_type": "code",
   "execution_count": 2,
   "metadata": {},
   "outputs": [
    {
     "name": "stdout",
     "output_type": "stream",
     "text": [
      "The value for vector 1 when not using numpy is  27.40437921208944\n",
      "\n",
      "For comparison of values:\n",
      "\n",
      "The value for vector 1 using numpy is equal to:  27.40437921208944\n"
     ]
    }
   ],
   "source": [
    "vec1 = [1,5,10,15,20]\n",
    "vecA = ((vec1[0])**2)+(vec1[1]**2)+(vec1[2]**2)+(vec1[3]**2)+(vec1[4]**2)\n",
    "\n",
    "res1 = math.sqrt(vecA)\n",
    "print(\"The value for vector 1 when not using numpy is \",res1)\n",
    "\n",
    "print(\"\\nFor comparison of values:\")\n",
    "\n",
    "vector_A = np.array([1,5,10,15,20])\n",
    "print(\"\\nThe value for vector 1 using numpy is equal to: \",np.linalg.norm(vector_A))"
   ]
  },
  {
   "cell_type": "code",
   "execution_count": 3,
   "metadata": {},
   "outputs": [
    {
     "name": "stdout",
     "output_type": "stream",
     "text": [
      "The value for vector 2 when not using numpy is  14.832396974191326\n",
      "\n",
      "For comparison of values:\n",
      "\n",
      "The value for vector 2 using numpy is equal to:  14.832396974191326\n"
     ]
    }
   ],
   "source": [
    "vec2 = [2,4,6,8,10]\n",
    "vecB = ((vec2[0])**2)+(vec2[1]**2)+(vec2[2]**2)+(vec2[3]**2)+(vec2[4]**2)\n",
    "\n",
    "res2 = math.sqrt(vecB)\n",
    "print(\"The value for vector 2 when not using numpy is \",res2)\n",
    "\n",
    "print(\"\\nFor comparison of values:\")\n",
    "\n",
    "vector_B = np.array([2,4,6,8,10])\n",
    "print(\"\\nThe value for vector 2 using numpy is equal to: \",np.linalg.norm(vector_B))"
   ]
  },
  {
   "cell_type": "code",
   "execution_count": 4,
   "metadata": {},
   "outputs": [
    {
     "name": "stdout",
     "output_type": "stream",
     "text": [
      "The value for vector 3 when not using numpy is  74.16198487095663\n",
      "\n",
      "For comparison of values:\n",
      "\n",
      "The value for vector 3 using numpy is equal to:  74.16198487095663\n"
     ]
    }
   ],
   "source": [
    "vec3 = [10,20,30,40,50]\n",
    "vecC = ((vec3[0])**2)+(vec3[1]**2)+(vec3[2]**2)+(vec3[3]**2)+(vec3[4]**2)\n",
    "\n",
    "res3 = math.sqrt(vecC)\n",
    "print(\"The value for vector 3 when not using numpy is \",res3)\n",
    "\n",
    "print(\"\\nFor comparison of values:\")\n",
    "\n",
    "vector_C = np.array([10,20,30,40,50])\n",
    "print(\"\\nThe value for vector 3 using numpy is equal to: \",np.linalg.norm(vector_C))"
   ]
  },
  {
   "cell_type": "code",
   "execution_count": 5,
   "metadata": {},
   "outputs": [
    {
     "name": "stdout",
     "output_type": "stream",
     "text": [
      "The value for vector 4 when not using numpy is  67.93379129711516\n",
      "\n",
      "The value for vector 4 using numpy is equal to:  67.93379129711516\n"
     ]
    }
   ],
   "source": [
    "vec4 = [22,33,1,4,55]\n",
    "vecD = ((vec4[0])**2)+(vec4[1]**2)+(vec4[2]**2)+(vec4[3]**2)+(vec4[4]**2)\n",
    "\n",
    "res4 = math.sqrt(vecD)\n",
    "print(\"The value for vector 4 when not using numpy is \",res4)\n",
    "\n",
    "vector_D = np.array([22,33,1,4,55])\n",
    "print(\"\\nThe value for vector 4 using numpy is equal to: \",np.linalg.norm(vector_D))"
   ]
  },
  {
   "cell_type": "code",
   "execution_count": 6,
   "metadata": {},
   "outputs": [
    {
     "name": "stdout",
     "output_type": "stream",
     "text": [
      "The value for vector 5 when not using numpy is  62.71363488110062\n",
      "\n",
      "For comparison of values:\n",
      "\n",
      "The value for vector 5 using numpy is equal to:  62.71363488110062\n"
     ]
    }
   ],
   "source": [
    "vec5 = [3,31,15,23,47]\n",
    "vecE = ((vec5[0])**2)+(vec5[1]**2)+(vec5[2]**2)+(vec5[3]**2)+(vec5[4]**2)\n",
    "\n",
    "res5 = math.sqrt(vecE)\n",
    "print(\"The value for vector 5 when not using numpy is \",res5)\n",
    "\n",
    "print(\"\\nFor comparison of values:\")\n",
    "\n",
    "vector_E = np.array([3,31,15,23,47])\n",
    "print(\"\\nThe value for vector 5 using numpy is equal to: \",np.linalg.norm(vector_E))"
   ]
  },
  {
   "cell_type": "code",
   "execution_count": 7,
   "metadata": {},
   "outputs": [
    {
     "name": "stdout",
     "output_type": "stream",
     "text": [
      "The value for vector 6 when not using numpy is  90.68627239003708\n",
      "\n",
      "For comparison of values:\n",
      "\n",
      "The value for vector 6 using numpy is equal to:  90.68627239003708\n"
     ]
    }
   ],
   "source": [
    "vec6 = [3,5,17,85,26]\n",
    "vecF = ((vec6[0])**2)+(vec6[1]**2)+(vec6[2]**2)+(vec6[3]**2)+(vec6[4]**2)\n",
    "\n",
    "res6 = math.sqrt(vecF)\n",
    "print(\"The value for vector 6 when not using numpy is \",res6)\n",
    "\n",
    "print(\"\\nFor comparison of values:\")\n",
    "\n",
    "vector_F = np.array([3,5,17,85,26])\n",
    "print(\"\\nThe value for vector 6 using numpy is equal to: \",np.linalg.norm(vector_F))"
   ]
  },
  {
   "cell_type": "markdown",
   "metadata": {},
   "source": [
    "# Task 2"
   ]
  },
  {
   "cell_type": "code",
   "execution_count": 14,
   "metadata": {},
   "outputs": [
    {
     "name": "stdout",
     "output_type": "stream",
     "text": [
      "The resulting product without numpy for the pair is 497\n",
      "\n",
      "For comparison of values:\n",
      "\n",
      "Result using Numpy:  497\n"
     ]
    }
   ],
   "source": [
    "vec1A = [1,3,4,6,10]\n",
    "vec2A = [5,2,32,33,16]\n",
    "result = (vec1A[0]*vec2A[0] + vec1A[1]*vec2A[1]+ vec1A[2]*vec2A[2] + vec1A[3]*vec2A[3]+ vec1A[4]*vec2A[4])\n",
    "print(\"The resulting product without numpy for the pair is\",result)\n",
    "\n",
    "print(\"\\nFor comparison of values:\")\n",
    "\n",
    "vec1X = np.array([1,3,4,6,10])\n",
    "vec2X = np.array([5,2,32,33,16])\n",
    "\n",
    "print(\"\\nResult using Numpy: \",np.inner(vec1X,vec2X))"
   ]
  },
  {
   "cell_type": "code",
   "execution_count": 15,
   "metadata": {},
   "outputs": [
    {
     "name": "stdout",
     "output_type": "stream",
     "text": [
      "The resulting product without numpy for the  pair is 871\n",
      "\n",
      "For comparison of values:\n",
      "\n",
      "Result using Numpy:  871\n"
     ]
    }
   ],
   "source": [
    "vec1B = [51,7,2,4,3]\n",
    "vec2B = [12,7,2,44,10]\n",
    "\n",
    "result = (vec1B[0]*vec2B[0] + vec1B[1]*vec2B[1]+ vec1B[2]*vec2B[2] + vec1B[3]*vec2B[3]+ vec1B[4]*vec2B[4])\n",
    "print(\"The resulting product without numpy for the  pair is\",result)\n",
    "\n",
    "print(\"\\nFor comparison of values:\")\n",
    "\n",
    "vec1Y = np.array([51,7,2,4,3])\n",
    "vec2Y = np.array([12,7,2,44,10])\n",
    "\n",
    "print(\"\\nResult using Numpy: \",np.inner(vec1Y,vec2Y))"
   ]
  },
  {
   "cell_type": "code",
   "execution_count": 13,
   "metadata": {},
   "outputs": [
    {
     "name": "stdout",
     "output_type": "stream",
     "text": [
      "The resulting product without numpy for the  pair is 1924\n",
      "\n",
      "For comparison of values:\n",
      "\n",
      "Result using Numpy:  1924\n"
     ]
    }
   ],
   "source": [
    "vec1C = [31,20,13,2,15]\n",
    "vec2C = [33,22,11,9,20]\n",
    "\n",
    "result = (vec1C[0]*vec2C[0] + vec1C[1]*vec2C[1]+ vec1C[2]*vec2C[2] + vec1C[3]*vec2C[3]+ vec1C[4]*vec2C[4])\n",
    "print(\"The resulting product without numpy for the  pair is\",result)\n",
    "\n",
    "print(\"\\nFor comparison of values:\")\n",
    "\n",
    "vec1Y = np.array([31,20,13,2,15])\n",
    "vec2Y = np.array([33,22,11,9,20])\n",
    "\n",
    "print(\"\\nResult using Numpy: \",np.inner(vec1Y,vec2Y))"
   ]
  },
  {
   "cell_type": "code",
   "execution_count": 20,
   "metadata": {},
   "outputs": [
    {
     "name": "stdout",
     "output_type": "stream",
     "text": [
      "The resulting product without numpy for the  pair is 130\n",
      "\n",
      "For comparison of values:\n",
      "\n",
      "Result using Numpy:  130\n"
     ]
    }
   ],
   "source": [
    "vec1D = [1,2,3,4,5]\n",
    "vec2D = [6,7,8,9,10]\n",
    "\n",
    "result = (vec1D[0]*vec2D[0] + vec1D[1]*vec2D[1]+ vec1D[2]*vec2D[2] + vec1D[3]*vec2D[3]+ vec1D[4]*vec2D[4])\n",
    "print(\"The resulting product without numpy for the  pair is\",result)\n",
    "\n",
    "print(\"\\nFor comparison of values:\")\n",
    "\n",
    "vec1Y = np.array([1,2,3,4,5])\n",
    "vec2Y = np.array([6,7,8,9,10])\n",
    "\n",
    "print(\"\\nResult using Numpy: \",np.inner(vec1Y,vec2Y))"
   ]
  },
  {
   "cell_type": "code",
   "execution_count": 22,
   "metadata": {},
   "outputs": [
    {
     "name": "stdout",
     "output_type": "stream",
     "text": [
      "The resulting product without numpy for the  pair is 1180\n",
      "\n",
      "For comparison of values:\n",
      "\n",
      "Result using Numpy:  1180\n"
     ]
    }
   ],
   "source": [
    "vec1B = [11,12,13,14,15]\n",
    "vec2B = [16,17,18,19,20]\n",
    "\n",
    "result = (vec1B[0]*vec2B[0] + vec1B[1]*vec2B[1]+ vec1B[2]*vec2B[2] + vec1B[3]*vec2B[3]+ vec1B[4]*vec2B[4])\n",
    "print(\"The resulting product without numpy for the  pair is\",result)\n",
    "\n",
    "print(\"\\nFor comparison of values:\")\n",
    "\n",
    "vec1Y = np.array([11,12,13,14,15])\n",
    "vec2Y = np.array([16,17,18,19,20])\n",
    "\n",
    "print(\"\\nResult using Numpy: \",np.inner(vec1Y,vec2Y))"
   ]
  },
  {
   "cell_type": "markdown",
   "metadata": {},
   "source": [
    "# Task 3"
   ]
  },
  {
   "cell_type": "markdown",
   "metadata": {},
   "source": [
    "$$A=\\begin{bmatrix} -0.4\\\\0.3\\\\-0.6 \\end{bmatrix}, B=\\begin{bmatrix} -0.20 , 0.21\\\\ \\end{bmatrix}, C\\begin{bmatrix} 0.2, 0.1, -0.5\\\\ \\end{bmatrix}$$\n"
   ]
  },
  {
   "cell_type": "code",
   "execution_count": 40,
   "metadata": {},
   "outputs": [
    {
     "name": "stdout",
     "output_type": "stream",
     "text": [
      "The resulting array is [0.34769805 1.13001866 0.6953961 ]\n"
     ]
    },
    {
     "data": {
      "image/png": "[encoded data removed]",
      "text/plain": [
       "<Figure size 432x288 with 1 Axes>"
      ]
     },
     "metadata": {
      "needs_background": "light"
     },
     "output_type": "display_data"
    }
   ],
   "source": [
    "A = np.array([-0.4,0.3,-0.6])\n",
    "B = np.array([-0.2,0.2,1])\n",
    "C = np.array([0.2,0.1,-0.5])\n",
    "\n",
    "ans1 = (A@A + B@B + C@C)\n",
    "ans2 = (A*(B+A*B)/C)\n",
    "ans3 = (np.linalg.norm(A+B+C))\n",
    "res = ans1*ans2*ans3\n",
    "\n",
    "print(f'The resulting array is {res}')\n",
    "\n",
    "fig = plt.figure()\n",
    "ax = fig.gca(projection='3d')\n",
    "ax.quiver(0,0,0, res[0], res[1], res[2], color='red')\n",
    "ax.set_xlim([0, 1.5])\n",
    "ax.set_ylim([0, 1.5])\n",
    "ax.set_zlim([0, 1.5])\n",
    "plt.show()"
   ]
  }
 ],
 "metadata": {
  "kernelspec": {
   "display_name": "Python 3",
   "language": "python",
   "name": "python3"
  },
  "language_info": {
   "codemirror_mode": {
    "name": "ipython",
    "version": 3
   },
   "file_extension": ".py",
   "mimetype": "text/x-python",
   "name": "python",
   "nbconvert_exporter": "python",
   "pygments_lexer": "ipython3",
   "version": "3.8.3"
  }
 },
 "nbformat": 4,
 "nbformat_minor": 4
}
